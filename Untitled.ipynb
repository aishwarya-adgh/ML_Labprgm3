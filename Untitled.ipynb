{
 "cells": [
  {
   "cell_type": "code",
   "execution_count": 6,
   "metadata": {},
   "outputs": [
    {
     "ename": "SyntaxError",
     "evalue": "(unicode error) 'unicodeescape' codec can't decode bytes in position 2-3: truncated \\UXXXXXXXX escape (<ipython-input-6-37cd9a2c9d82>, line 3)",
     "output_type": "error",
     "traceback": [
      "\u001b[1;36m  File \u001b[1;32m\"<ipython-input-6-37cd9a2c9d82>\"\u001b[1;36m, line \u001b[1;32m3\u001b[0m\n\u001b[1;33m    df_tennis = pd.read_csv('C:\\Users\\Aishwarya.k\\Desktop\\MLLab\\ML Lab3\\4MT17CS007Aishwarya.csv')\u001b[0m\n\u001b[1;37m                            ^\u001b[0m\n\u001b[1;31mSyntaxError\u001b[0m\u001b[1;31m:\u001b[0m (unicode error) 'unicodeescape' codec can't decode bytes in position 2-3: truncated \\UXXXXXXXX escape\n"
     ]
    }
   ],
   "source": [
    "import pandas as pd\n",
    "from pandas import DataFrame\n",
    "df_tennis = pd.read_csv('C:\\Users\\Aishwarya.k\\Desktop\\MLLab\\ML Lab3\\4MT17CS007Aishwarya.csv')"
   ]
  },
  {
   "cell_type": "code",
   "execution_count": 5,
   "metadata": {},
   "outputs": [
    {
     "ename": "NameError",
     "evalue": "name 'df_tennis' is not defined",
     "output_type": "error",
     "traceback": [
      "\u001b[1;31m---------------------------------------------------------------------------\u001b[0m",
      "\u001b[1;31mNameError\u001b[0m                                 Traceback (most recent call last)",
      "\u001b[1;32m<ipython-input-5-637e0ad30748>\u001b[0m in \u001b[0;36m<module>\u001b[1;34m\u001b[0m\n\u001b[1;32m----> 1\u001b[1;33m \u001b[0mattribute_names\u001b[0m \u001b[1;33m=\u001b[0m \u001b[0mlist\u001b[0m\u001b[1;33m(\u001b[0m\u001b[0mdf_tennis\u001b[0m\u001b[1;33m.\u001b[0m\u001b[0mcolumns\u001b[0m\u001b[1;33m)\u001b[0m\u001b[1;33m\u001b[0m\u001b[1;33m\u001b[0m\u001b[0m\n\u001b[0m\u001b[0;32m      2\u001b[0m \u001b[0mattribute_names\u001b[0m\u001b[1;33m.\u001b[0m\u001b[0mremove\u001b[0m\u001b[1;33m(\u001b[0m\u001b[1;34m'Play'\u001b[0m\u001b[1;33m)\u001b[0m\u001b[1;33m\u001b[0m\u001b[1;33m\u001b[0m\u001b[0m\n\u001b[0;32m      3\u001b[0m \u001b[1;33m\u001b[0m\u001b[0m\n\u001b[0;32m      4\u001b[0m \u001b[0mprint\u001b[0m\u001b[1;33m(\u001b[0m\u001b[0mattribute_names\u001b[0m\u001b[1;33m)\u001b[0m\u001b[1;33m\u001b[0m\u001b[1;33m\u001b[0m\u001b[0m\n",
      "\u001b[1;31mNameError\u001b[0m: name 'df_tennis' is not defined"
     ]
    }
   ],
   "source": [
    "attribute_names = list(df_tennis.columns)\n",
    "attribute_names.remove('Play')\n",
    "\n",
    "print(attribute_names)"
   ]
  },
  {
   "cell_type": "code",
   "execution_count": 8,
   "metadata": {},
   "outputs": [],
   "source": [
    "def entropy_of_list(lst):\n",
    "    from collections import Counter\n",
    "    count = Counter(x for x in lst)\n",
    "    num_instances = len(lst)*1\n",
    "    probs = [x/num_instances for x in count.values()]\n",
    "    return entropy(probs)\n",
    "    "
   ]
  },
  {
   "cell_type": "code",
   "execution_count": 9,
   "metadata": {},
   "outputs": [],
   "source": [
    "def entropy(probs):\n",
    "    import math\n",
    "    return sum([-prob*math.log(prob,2) for prob in probs])"
   ]
  },
  {
   "cell_type": "code",
   "execution_count": 10,
   "metadata": {},
   "outputs": [
    {
     "ename": "NameError",
     "evalue": "name 'df_tennsid' is not defined",
     "output_type": "error",
     "traceback": [
      "\u001b[1;31m---------------------------------------------------------------------------\u001b[0m",
      "\u001b[1;31mNameError\u001b[0m                                 Traceback (most recent call last)",
      "\u001b[1;32m<ipython-input-10-1c615e33a20a>\u001b[0m in \u001b[0;36m<module>\u001b[1;34m\u001b[0m\n\u001b[1;32m----> 1\u001b[1;33m \u001b[0mtotal_entopy\u001b[0m \u001b[1;33m=\u001b[0m \u001b[0mentropy_of_list\u001b[0m\u001b[1;33m(\u001b[0m\u001b[0mdf_tennsid\u001b[0m\u001b[1;33m[\u001b[0m\u001b[1;34m'Play'\u001b[0m\u001b[1;33m]\u001b[0m\u001b[1;33m)\u001b[0m\u001b[1;33m\u001b[0m\u001b[1;33m\u001b[0m\u001b[0m\n\u001b[0m",
      "\u001b[1;31mNameError\u001b[0m: name 'df_tennsid' is not defined"
     ]
    }
   ],
   "source": [
    "total_entopy = entropy_of_list(df_tennsid['Play'])"
   ]
  },
  {
   "cell_type": "code",
   "execution_count": 11,
   "metadata": {},
   "outputs": [],
   "source": [
    "def information_gain(df,split_attribute_name, target_attribute_name, trace=0):\n",
    "    df_split = df.groupby(split_attribute_name)\n",
    "    nobs = lens(df.index)*1\n",
    "    df_aggent = df_split.agg({target_attribute_name:[entropy_of_list,lambda x:len(x)/nobs]})\n",
    "    df_aggent.columns = ['Entropy','propobservations']\n",
    "    new_entropy = sum(df_aggent['Entropy']*df_aggent['propobservations'])\n",
    "    old_entropy = entropy_of_list(df[target_attribute_name])\n",
    "    print(split_attribute_name, 'IG :',old_entropy - new_entropy)\n",
    "    return old_entropy - new_entropy"
   ]
  },
  {
   "cell_type": "code",
   "execution_count": 12,
   "metadata": {},
   "outputs": [],
   "source": [
    "def id3(df, target_attribute_name, attribute_names, default_class = None):\n",
    "    from collections import Counter\n",
    "    count = Counter(x for x in df[target_attribute_name])\n",
    "    if len(count)==1:\n",
    "        return next(iter(count))\n",
    "    elif df.empty or (not attribute_names):\n",
    "        return default_class\n",
    "    else:\n",
    "        default_class = max(count.keys())\n",
    "        gain = [\n",
    "            information_gain(df, attr, target_attribute_name) for attr in attribute_names\n",
    "        ]\n",
    "        print()\n",
    "        index_of_max = gain.index(max(gain))\n",
    "        best_attr = attribute_names[index_of_max]\n",
    "        \n",
    "        tree = {best_attr:{}}\n",
    "        \n",
    "        remaining_attribute_names = [i for i in attribute_names if i!= best_attr]\n",
    "        \n",
    "        for attr_val, data_subset in df.groupby(best_attr):\n",
    "            subtree= id3(data_subset, target_attribute_name, remaining_attribute_names, default_class)\n",
    "            tree[best_attr][attr_val] = subtree\n",
    "            \n",
    "        return tree"
   ]
  },
  {
   "cell_type": "code",
   "execution_count": null,
   "metadata": {},
   "outputs": [],
   "source": [
    "from pprint import pprint\n",
    "tree = id3(df_tennis, 'Play', attribute_names)\n",
    "print(\"\\n\\nThe Resultant Decision Tree is:\\n\")\n",
    "pprint(tree)"
   ]
  }
 ],
 "metadata": {
  "kernelspec": {
   "display_name": "Python 3",
   "language": "python",
   "name": "python3"
  },
  "language_info": {
   "codemirror_mode": {
    "name": "ipython",
    "version": 3
   },
   "file_extension": ".py",
   "mimetype": "text/x-python",
   "name": "python",
   "nbconvert_exporter": "python",
   "pygments_lexer": "ipython3",
   "version": "3.8.3"
  }
 },
 "nbformat": 4,
 "nbformat_minor": 4
}
